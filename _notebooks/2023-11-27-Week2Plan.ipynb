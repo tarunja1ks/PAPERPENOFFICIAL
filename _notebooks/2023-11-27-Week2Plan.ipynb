{
 "cells": [
  {
   "cell_type": "markdown",
   "metadata": {},
   "source": [
    "---\n",
    "toc: true\n",
    "comments: false\n",
    "layout: post\n",
    "title: Week 2 Plan\n",
    "type: plans\n",
    "courses: { compsci: {week: 1} }\n",
    "---"
   ]
  },
  {
   "cell_type": "markdown",
   "metadata": {},
   "source": [
    "# Plans For this Week\n",
    "    - Version 1 of the AI working\n",
    "    - Decryption and Encryption Buttons added to the site\n",
    "    - Basic animations working\n",
    "    - Binary Rotation fully working\n",
    "    - Linking to frontend and Backend Working\n",
    "    "
   ]
  }
 ],
 "metadata": {
  "language_info": {
   "name": "python"
  }
 },
 "nbformat": 4,
 "nbformat_minor": 2
}
