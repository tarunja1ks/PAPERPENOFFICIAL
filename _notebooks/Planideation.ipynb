{
 "cells": [
  {
   "cell_type": "markdown",
   "metadata": {},
   "source": [
    "---\n",
    "toc: true\n",
    "comments: false\n",
    "layout: post\n",
    "title: Ideation Plans\n",
    "type: plans\n",
    "courses: { compsci: {week: 0} }\n",
    "---"
   ]
  },
  {
   "cell_type": "markdown",
   "metadata": {},
   "source": [
    "![convert notebook to web app](Slide1.png)\n",
    "![convert notebook to web app](Slide2.png)\n",
    "![convert notebook to web app](Slide3.png)\n",
    "![convert notebook to web app](Slide4.png)\n",
    "![convert notebook to web app](Slide5.png)\n",
    "![convert notebook to web app](Slide6.png)"
   ]
  }
 ],
 "metadata": {
  "language_info": {
   "name": "python"
  }
 },
 "nbformat": 4,
 "nbformat_minor": 5
}
