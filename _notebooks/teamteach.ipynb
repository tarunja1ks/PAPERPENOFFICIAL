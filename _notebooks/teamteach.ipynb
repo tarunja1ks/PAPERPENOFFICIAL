{
 "cells": [
  {
   "cell_type": "markdown",
   "metadata": {},
   "source": [
    "# Big Idea 5.3 Computing Bias- Teamteach\n",
    "\n",
    "Overview/Definition: Computing Biasses are the numerous Biasses in application that are based on human prefrences.\n",
    "\n",
    "- Computing innovations can reflect existing human biases because of biases written into the algorithms or biases in the data used by the innovation\n",
    "- Programmers should take action to reduce bias in algorithms used for computing innovations as a way of combating existing human biases\n",
    "- Biases can be embedded at all levels of software development"
   ]
  },
  {
   "cell_type": "markdown",
   "metadata": {},
   "source": [
    "## Explicit data vs Implicit data: Intentional Bias\n",
    "\n",
    "Explicit data:\n",
    "- takes the data that you give\n",
    "- When watching a video, and it asks \"are you enjoying this?\", and you respond with either a thumbs up or down, you are giving them explicit data\n",
    "\n",
    "Implicit data:\n",
    "- When you watch or search up certain things, data can be deduced on what is the \"norm\" for the person\n",
    "\n",
    "Example: Netflix\n",
    "- When browsing through Netflix, they show Netflix exclusives, they do this because they want your subscriptions \n",
    "- showing the netflix exclusives is the bias in this scenario"
   ]
  },
  {
   "cell_type": "markdown",
   "metadata": {},
   "source": [
    "## Unintentional Bias\n",
    "\n",
    "Example 1: Hypothetical Loan company\n",
    "- Suppose a software was created to assist loan officers, and certain trends of successful loans were taken\n",
    "- If people are rejected of those who don't fit in their trends of either age, gender, race, etc.\n",
    "- This software is biased in the way that it only chooses candidates who will have higher chances in successful loans\n",
    "\n",
    "Example 2: Candy Crush vs Call of Duty\n",
    "- Call of Duty is geared towards the teenage boy demographic, 18-24, with more grunge type of music\n",
    "- Candy Crush is more visually appearing to younger audience as it includes pictures of candies and playful music \n",
    "- This is biased as the games include aspects and characteristics that will seem appealing to a specific audience "
   ]
  },
  {
   "cell_type": "markdown",
   "metadata": {},
   "source": [
    "## Popcorn Hack:\n",
    "How is their unintentional bias in apps such as TikTok or Instagram or otehr social media apps?"
   ]
  },
  {
   "attachments": {},
   "cell_type": "markdown",
   "metadata": {},
   "source": [
    "# Popcorn Hack\n",
    "What are the different biases you can find in an application such as Youtube Kids?\n",
    "\n"
   ]
  },
  {
   "cell_type": "markdown",
   "metadata": {},
   "source": [
    "## Homework:\n",
    "\n",
    "1. Is bias enhancing or intentionally excluding?\n",
    "2. Is bias intentionally harmful/hateful?\n",
    "3. During software development are your receiving feedback from a wide variety of people?\n",
    "\n",
    "Answer in complete sentences, due Sunday 11:59 pm"
   ]
  }
 ],
 "metadata": {
  "kernelspec": {
   "display_name": "Python 3 (ipykernel)",
   "language": "python",
   "name": "python3"
  },
  "language_info": {
   "codemirror_mode": {
    "name": "ipython",
    "version": 3
   },
   "file_extension": ".py",
   "mimetype": "text/x-python",
   "name": "python",
   "nbconvert_exporter": "python",
   "pygments_lexer": "ipython3",
   "version": "3.10.6"
  }
 },
 "nbformat": 4,
 "nbformat_minor": 2
}
