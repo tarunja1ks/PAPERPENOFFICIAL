{
 "cells": [
  {
   "cell_type": "code",
   "execution_count": null,
   "metadata": {},
   "outputs": [],
   "source": []
  },
  {
   "cell_type": "code",
   "execution_count": 1,
   "metadata": {},
   "outputs": [
    {
     "name": "stderr",
     "output_type": "stream",
     "text": [
      "UsageError: Line magic function `%Markdown` not found.\n"
     ]
    }
   ],
   "source": []
  },
  {
   "cell_type": "markdown",
   "metadata": {},
   "source": []
  },
  {
   "cell_type": "markdown",
   "metadata": {},
   "source": [
    "# Big Idea 5.3 Computing Bias- Teamteach\n",
    "\n",
    "Overview/Definition: Computing Biasses are the numerous Biasses in application that are based on human prefrences.\n",
    "\n",
    "For example if we take Netflix, when you like a movie or tv show it recommmends shows and movies to you based on that, which you might enjoy. This makes the application much better for the every-day user. \n",
    "\n",
    "Call of Duty- It might be biased towards more people that are invested and intense with their videogames unlike gamepigeon or subwaysurfers, which are casual games.\n",
    "\n"
   ]
  },
  {
   "cell_type": "markdown",
   "metadata": {},
   "source": [
    "# Unintentional Bias\n",
    "Unintentional Bias Example: Snapchat and Instagram are perfect examples of this as the creators want a wide various audience but it is generally the younger generation that uses it showing unintentional bias. Facebook is another example of this as the audience is mainly the older generation but they aren't trying to exclude the younger generation.\n",
    "\n"
   ]
  },
  {
   "cell_type": "markdown",
   "metadata": {},
   "source": [
    "# Recieving Feedback from a wide variety of people\n"
   ]
  },
  {
   "cell_type": "markdown",
   "metadata": {},
   "source": [
    "![Screenshot%202023-11-14%20at%203.33.30%20PM.png](attachment:Screenshot%202023-11-14%20at%203.33.30%20PM.png)"
   ]
  },
  {
   "attachments": {},
   "cell_type": "markdown",
   "metadata": {},
   "source": [
    "# Question 1\n",
    "What are the different biases you can find in an application such as Youtube Kids?\n",
    "\n"
   ]
  }
 ],
 "metadata": {
  "kernelspec": {
   "display_name": "Python 3 (ipykernel)",
   "language": "python",
   "name": "python3"
  },
  "language_info": {
   "codemirror_mode": {
    "name": "ipython",
    "version": 3
   },
   "file_extension": ".py",
   "mimetype": "text/x-python",
   "name": "python",
   "nbconvert_exporter": "python",
   "pygments_lexer": "ipython3",
   "version": "3.10.6"
  }
 },
 "nbformat": 4,
 "nbformat_minor": 2
}
