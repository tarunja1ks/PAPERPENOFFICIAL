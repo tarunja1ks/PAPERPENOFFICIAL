{
 "cells": [
  {
   "cell_type": "markdown",
   "metadata": {},
   "source": [
    "---\n",
    "toc: true\n",
    "comments: false\n",
    "layout: post\n",
    "title: Week 1 Review\n",
    "type: tangibles\n",
    "courses: { compsci: {week: 1} }\n",
    "---"
   ]
  },
  {
   "cell_type": "markdown",
   "metadata": {},
   "source": [
    "# Completed Items\n",
    "    We have overall as a team completed a lot of the project in this week including:\n",
    "        -Creating a Wireframe of our site page\n",
    "        - Creating a full plan of what features we plan to accomplish for our binary project\n",
    "        - We plan to make encyrption/decryption using binary rotation+AI\n",
    "        - We have started working on the team teach a little watching college board videos\n",
    "\n"
   ]
  }
 ],
 "metadata": {
  "language_info": {
   "name": "python"
  }
 },
 "nbformat": 4,
 "nbformat_minor": 2
}
