{
 "cells": [
  {
   "cell_type": "markdown",
   "metadata": {},
   "source": [
    "---\n",
    "toc: true\n",
    "comments: false\n",
    "layout: post\n",
    "title: Week 2 Review\n",
    "type: tangibles\n",
    "courses: { compsci: {week: 1} }\n",
    "---"
   ]
  },
  {
   "cell_type": "markdown",
   "metadata": {},
   "source": [
    "# Completed Items\n",
    "    We have overall as a team completed a lot of the project in this week including:\n",
    "        -fixing the binary rotation encryption\n",
    "        -Making the AI decryption\n",
    "        - Making a Dataset for AIDecryption\n",
    "        - Frontend bruteforce decryption\n",
    "        - Design Elements improving\n",
    "    \n",
    "    Although we have done a lot throughout this week these are some things we believe we should work on for the next week:\n",
    "        -Errors in the decryption process as it gives non-english or alphanumeric characters often times with longer texts(FIX can be doing data agumentation and training the model based on the errors it gives to make it more adjustable for this topic)\n",
    "        -Slow decryption timing as it is forced to bruteforce all possible rotations to find the correct one\n",
    "        -The text boxes arent centered\n"
   ]
  }
 ],
 "metadata": {
  "language_info": {
   "name": "python"
  }
 },
 "nbformat": 4,
 "nbformat_minor": 2
}
