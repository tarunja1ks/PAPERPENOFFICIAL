{
 "cells": [
  {
   "cell_type": "markdown",
   "metadata": {},
   "source": [
    "---\n",
    "toc: true\n",
    "comments: false\n",
    "layout: post\n",
    "title: Ideation Plan\n",
    "type: plans\n",
    "courses: { compsci: {week: 0} }\n",
    "---"
   ]
  },
  {
   "cell_type": "markdown",
   "metadata": {},
   "source": [
    "![convert notebook to web app]({{site.baseurl}}/images/Slide1.png)\n",
    "![convert notebook to web app]({{site.baseurl}}/images/Slide2.png)\n",
    "![convert notebook to web app]({{site.baseurl}}/images/Slide3.png)\n",
    "![convert notebook to web app]({{site.baseurl}}/images/Slide4.png)\n",
    "![convert notebook to web app]({{site.baseurl}}/images/Slide5.png)\n",
    "![convert notebook to web app]({{site.baseurl}}/images/Slide6.png)"
   ]
  }
 ],
 "metadata": {
  "language_info": {
   "name": "python"
  }
 },
 "nbformat": 4,
 "nbformat_minor": 5
}
